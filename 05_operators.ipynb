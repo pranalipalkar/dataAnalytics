{
 "cells": [
  {
   "cell_type": "markdown",
   "id": "7dbf952b",
   "metadata": {},
   "source": [
    "### Arithmetic operator"
   ]
  },
  {
   "cell_type": "code",
   "execution_count": 6,
   "id": "89fa5540",
   "metadata": {},
   "outputs": [
    {
     "name": "stdout",
     "output_type": "stream",
     "text": [
      "5\n",
      "25\n",
      "16\n",
      "5.0\n",
      "8\n",
      "0\n",
      "10\n"
     ]
    }
   ],
   "source": [
    "print(2 + 3)\n",
    "print(30 - 5)\n",
    "print(4 * 4)\n",
    "print(30 / 6)\n",
    "print(2 ** 3)\n",
    "print( 60 % 10)\n",
    "print(50 // 5)"
   ]
  },
  {
   "cell_type": "markdown",
   "id": "d501a9cb",
   "metadata": {},
   "source": [
    "### Assignment operator "
   ]
  },
  {
   "cell_type": "code",
   "execution_count": 46,
   "id": "cc52d22f",
   "metadata": {},
   "outputs": [
    {
     "name": "stdout",
     "output_type": "stream",
     "text": [
      "20\n",
      "15\n",
      "150\n",
      "300\n",
      "150.0\n"
     ]
    }
   ],
   "source": [
    "a = 10\n",
    "a += 10\n",
    "print(a)\n",
    "a -= 5\n",
    "print(a)\n",
    "a *= 10\n",
    "print(a)\n",
    "a *=2\n",
    "print(a)\n",
    "a /=2\n",
    "print(a)"
   ]
  },
  {
   "cell_type": "markdown",
   "id": "7b4f58a7",
   "metadata": {},
   "source": [
    "### Bitwise operator"
   ]
  },
  {
   "cell_type": "code",
   "execution_count": 19,
   "id": "057230de",
   "metadata": {},
   "outputs": [
    {
     "name": "stdout",
     "output_type": "stream",
     "text": [
      "8\n",
      "False\n",
      "True\n",
      "-2\n",
      "True\n"
     ]
    }
   ],
   "source": [
    "b = 10\n",
    "c = 12\n",
    "print(c & b)\n",
    "print(True & False)\n",
    "print(True | False)\n",
    "print(~True)\n",
    "print(True ^ False)"
   ]
  },
  {
   "cell_type": "markdown",
   "id": "6e2052a2",
   "metadata": {},
   "source": [
    "### Comparision operator "
   ]
  },
  {
   "cell_type": "code",
   "execution_count": 25,
   "id": "c498a3dd",
   "metadata": {},
   "outputs": [
    {
     "name": "stdout",
     "output_type": "stream",
     "text": [
      "True\n",
      "False\n",
      "False\n",
      "True\n",
      "False\n"
     ]
    }
   ],
   "source": [
    "p = 21\n",
    "g = 22\n",
    "print(p < g)\n",
    "print(p > g)\n",
    "print(p == g)\n",
    "print(p != g)\n",
    "print(\"hgfa\" == g)"
   ]
  },
  {
   "cell_type": "markdown",
   "id": "5ff5b110",
   "metadata": {},
   "source": [
    "### Identity operators"
   ]
  },
  {
   "cell_type": "code",
   "execution_count": 28,
   "id": "363f1586",
   "metadata": {},
   "outputs": [
    {
     "name": "stdout",
     "output_type": "stream",
     "text": [
      "False\n"
     ]
    }
   ],
   "source": [
    "group1 = {\"1st\": \"Pranali\", \"2nd\": \"Rudra\"}\n",
    "group2 = group1\n",
    "group2 = {\"1st\": \"gdfdgf\", \"2nd\": \"njhf\"}\n",
    "print(group1 is group2)"
   ]
  },
  {
   "cell_type": "markdown",
   "id": "95d6b3e4",
   "metadata": {},
   "source": [
    "### Membership operator"
   ]
  },
  {
   "cell_type": "code",
   "execution_count": 49,
   "id": "af75150c",
   "metadata": {},
   "outputs": [
    {
     "name": "stdout",
     "output_type": "stream",
     "text": [
      "True\n",
      "False\n"
     ]
    }
   ],
   "source": [
    "print(\"1st\" in group1)\n",
    "print(\"1st\" not in group1)\n"
   ]
  },
  {
   "cell_type": "code",
   "execution_count": 54,
   "id": "205fd788",
   "metadata": {},
   "outputs": [
    {
     "name": "stdout",
     "output_type": "stream",
     "text": [
      "Enter your age: 5\n",
      "you are not eligible\n"
     ]
    }
   ],
   "source": [
    "user_input = int(input(\"Enter your age: \"))\n",
    "# user_input = 6\n",
    "\n",
    "if user_input >= 18:\n",
    "    print(\"you can drive\")\n",
    "elif user_input < 18 or user_input > 60:\n",
    "    print(\"you are not eligible\")\n",
    "else:\n",
    "    print(\"type compatable value\")\n"
   ]
  },
  {
   "cell_type": "code",
   "execution_count": null,
   "id": "3c5a7126",
   "metadata": {},
   "outputs": [],
   "source": []
  }
 ],
 "metadata": {
  "kernelspec": {
   "display_name": "Python 3 (ipykernel)",
   "language": "python",
   "name": "python3"
  },
  "language_info": {
   "codemirror_mode": {
    "name": "ipython",
    "version": 3
   },
   "file_extension": ".py",
   "mimetype": "text/x-python",
   "name": "python",
   "nbconvert_exporter": "python",
   "pygments_lexer": "ipython3",
   "version": "3.12.3"
  }
 },
 "nbformat": 4,
 "nbformat_minor": 5
}
