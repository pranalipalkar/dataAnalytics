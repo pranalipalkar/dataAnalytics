{
 "cells": [
  {
   "cell_type": "markdown",
   "id": "62acb18c",
   "metadata": {},
   "source": [
    "### Question 2: Write a program to calculate the area of a circle given its radius. (Use the formula area = π * r²)"
   ]
  },
  {
   "cell_type": "code",
   "execution_count": 17,
   "id": "c2323ee8",
   "metadata": {},
   "outputs": [
    {
     "name": "stdout",
     "output_type": "stream",
     "text": [
      "12.56\n",
      "12.56\n"
     ]
    }
   ],
   "source": [
    "# radius = 2\n",
    "AoC = 3.14 * (2**radius)\n",
    "print(AoC)\n",
    "\n",
    "def Area_Of_Circle(radius):\n",
    "    return 3.14 * (2**radius)\n",
    "print(Area_Of_Circle(2))"
   ]
  },
  {
   "cell_type": "markdown",
   "id": "da56b299",
   "metadata": {},
   "source": [
    "### Question 5: Convert 5 and 3 to binary and calculate 5 & 3, 5 | 3, and 5 ^ 3."
   ]
  },
  {
   "cell_type": "code",
   "execution_count": 12,
   "id": "50404ce8",
   "metadata": {},
   "outputs": [
    {
     "name": "stdout",
     "output_type": "stream",
     "text": [
      "0b101 0b11\n",
      "1\n",
      "7\n",
      "6\n"
     ]
    }
   ],
   "source": [
    "a = bin(5)\n",
    "b = bin(3)\n",
    "print(a, b)\n",
    "print(5 & 3)\n",
    "print(5 | 3)\n",
    "print(5 ^ 3)"
   ]
  },
  {
   "cell_type": "code",
   "execution_count": 24,
   "id": "02d3e77f",
   "metadata": {},
   "outputs": [
    {
     "name": "stdout",
     "output_type": "stream",
     "text": [
      "2.0\n"
     ]
    }
   ],
   "source": [
    "def performOpt(input):\n",
    "#     input += 50\n",
    "#     input -= 40\n",
    "#     input *= 2\n",
    "    input /= 5\n",
    "    return input\n",
    "print(performOpt(10))"
   ]
  },
  {
   "cell_type": "markdown",
   "id": "fc78d3ee",
   "metadata": {},
   "source": [
    "### Question 9: Write a Python program that takes an integer input and:"
   ]
  },
  {
   "cell_type": "code",
   "execution_count": 27,
   "id": "d5e0e279",
   "metadata": {},
   "outputs": [
    {
     "name": "stdout",
     "output_type": "stream",
     "text": [
      "enter a number 45\n",
      "odd number\n"
     ]
    }
   ],
   "source": [
    "num = int(input(\"enter a number \"))\n",
    "\n",
    "if num % 2 == 0:\n",
    "    print(\"even number\")\n",
    "elif num % 2 != 0:\n",
    "    print(\"odd number\")\n",
    "if 10 < num > 50:\n",
    "    print(\"The number is less than 10 greater than 50\")\n",
    "    \n"
   ]
  },
  {
   "cell_type": "code",
   "execution_count": null,
   "id": "f6ccdfd3",
   "metadata": {},
   "outputs": [],
   "source": []
  }
 ],
 "metadata": {
  "kernelspec": {
   "display_name": "Python 3 (ipykernel)",
   "language": "python",
   "name": "python3"
  },
  "language_info": {
   "codemirror_mode": {
    "name": "ipython",
    "version": 3
   },
   "file_extension": ".py",
   "mimetype": "text/x-python",
   "name": "python",
   "nbconvert_exporter": "python",
   "pygments_lexer": "ipython3",
   "version": "3.12.3"
  }
 },
 "nbformat": 4,
 "nbformat_minor": 5
}
