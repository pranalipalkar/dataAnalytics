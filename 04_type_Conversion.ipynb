{
 "cells": [
  {
   "cell_type": "markdown",
   "id": "68ed416b-3344-4976-9ef8-564364fe3004",
   "metadata": {},
   "source": [
    "### Question 1: What is the difference between implicit and explicit type conversion?"
   ]
  },
  {
   "cell_type": "markdown",
   "id": "92052293-b3c5-453e-925a-d87607845961",
   "metadata": {},
   "source": [
    "##### Implicit type conversion"
   ]
  },
  {
   "cell_type": "code",
   "execution_count": 9,
   "id": "e1a7c72f-8aa2-483f-8732-47c2260bbc27",
   "metadata": {},
   "outputs": [
    {
     "name": "stdout",
     "output_type": "stream",
     "text": [
      "11.4\n",
      "<class 'float'>\n"
     ]
    }
   ],
   "source": [
    "a = 8\n",
    "b = 3.4\n",
    "c = a+b\n",
    "print(c)\n",
    "print(type(c))"
   ]
  },
  {
   "cell_type": "markdown",
   "id": "6dfa9dd8-b65b-42ec-8e10-25368f14e215",
   "metadata": {},
   "source": [
    "##### Explicit type conversion"
   ]
  },
  {
   "cell_type": "code",
   "execution_count": 17,
   "id": "6bec1d4d-e16b-4ab6-b591-43469ffaf24d",
   "metadata": {},
   "outputs": [
    {
     "name": "stdout",
     "output_type": "stream",
     "text": [
      "123\n",
      "<class 'int'>\n"
     ]
    }
   ],
   "source": [
    "x = '123'\n",
    "y = int(x)\n",
    "print(y)\n",
    "print(type(y))"
   ]
  },
  {
   "cell_type": "markdown",
   "id": "80a5c2ea-bb28-4956-a3fb-5ea9406a5dc0",
   "metadata": {},
   "source": [
    "### Question 2: Which function would you use to convert a string \"555\" to an integer?"
   ]
  },
  {
   "cell_type": "code",
   "execution_count": 24,
   "id": "5bef377e-dcff-4e48-a406-a30e4dc2c903",
   "metadata": {},
   "outputs": [
    {
     "name": "stdout",
     "output_type": "stream",
     "text": [
      "555\n",
      "<class 'int'>\n"
     ]
    }
   ],
   "source": [
    "str1 = \"555\"\n",
    "num1 = int(str1)\n",
    "print(num1)\n",
    "print(type(num1))"
   ]
  },
  {
   "cell_type": "markdown",
   "id": "fb3a20d0-1887-4af4-9760-ad29b1d6d611",
   "metadata": {},
   "source": [
    "### Question 3: Explain what happens when you convert a floating-point number to an integer."
   ]
  },
  {
   "cell_type": "code",
   "execution_count": 33,
   "id": "fa7b84ad-206c-49c0-a0bd-2c7cf9656a6b",
   "metadata": {},
   "outputs": [
    {
     "name": "stdout",
     "output_type": "stream",
     "text": [
      "5\n",
      "<class 'int'>\n"
     ]
    }
   ],
   "source": [
    "a1 = 5.5\n",
    "a2 = int(a1)\n",
    "print(a2)\n",
    "print(type(a2))"
   ]
  },
  {
   "cell_type": "code",
   "execution_count": null,
   "id": "7112562f-dc71-45f1-b03c-8a7690077135",
   "metadata": {},
   "outputs": [],
   "source": []
  }
 ],
 "metadata": {
  "kernelspec": {
   "display_name": "Python 3 (ipykernel)",
   "language": "python",
   "name": "python3"
  },
  "language_info": {
   "codemirror_mode": {
    "name": "ipython",
    "version": 3
   },
   "file_extension": ".py",
   "mimetype": "text/x-python",
   "name": "python",
   "nbconvert_exporter": "python",
   "pygments_lexer": "ipython3",
   "version": "3.12.3"
  }
 },
 "nbformat": 4,
 "nbformat_minor": 5
}
