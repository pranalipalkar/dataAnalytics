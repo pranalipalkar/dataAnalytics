{
 "cells": [
  {
   "cell_type": "markdown",
   "id": "175ebf5f-cfc2-45c5-9ee3-33f4d6f65ed6",
   "metadata": {},
   "source": [
    "### Different data types in python"
   ]
  },
  {
   "cell_type": "code",
   "execution_count": 23,
   "id": "759ead09-5584-4324-8ea8-15309a0a1d84",
   "metadata": {},
   "outputs": [],
   "source": [
    "a = 1\n",
    "a1 = 'Pranali'\n",
    "a3 = True\n",
    "a4 = range(4)\n",
    "a5 = {'Pranali', 'Neha', 'Nikhil'}\n",
    "a6 = ['dog', 'cat', 'cow']\n",
    "a7 = {\"name\":\"Pranali\", \"age\": 21}\n"
   ]
  },
  {
   "cell_type": "markdown",
   "id": "4de09ffd-ded5-4cbe-8a5e-6d608eefa812",
   "metadata": {},
   "source": [
    "### Question2- How do you convert a string '123' into an integer?"
   ]
  },
  {
   "cell_type": "code",
   "execution_count": 110,
   "id": "2884e458-4e8b-4445-822a-1f688f830a0a",
   "metadata": {},
   "outputs": [
    {
     "ename": "TypeError",
     "evalue": "'int' object is not callable",
     "output_type": "error",
     "traceback": [
      "\u001b[1;31m---------------------------------------------------------------------------\u001b[0m",
      "\u001b[1;31mTypeError\u001b[0m                                 Traceback (most recent call last)",
      "Cell \u001b[1;32mIn[110], line 2\u001b[0m\n\u001b[0;32m      1\u001b[0m a8 \u001b[38;5;241m=\u001b[39m \u001b[38;5;241m123\u001b[39m\n\u001b[1;32m----> 2\u001b[0m b \u001b[38;5;241m=\u001b[39m \u001b[38;5;28mint\u001b[39m(a8)\n\u001b[0;32m      3\u001b[0m \u001b[38;5;28mprint\u001b[39m(\u001b[38;5;28mtype\u001b[39m(b))\n",
      "\u001b[1;31mTypeError\u001b[0m: 'int' object is not callable"
     ]
    }
   ],
   "source": [
    "a8 = 123\n",
    "b = int(a8)\n",
    "print(type(b))"
   ]
  },
  {
   "cell_type": "markdown",
   "id": "c4baa02e-1ac1-4db3-bf5c-33c7db285ab9",
   "metadata": {},
   "source": [
    "### Question3-Write a Python program to check if a given variable is of type float."
   ]
  },
  {
   "cell_type": "code",
   "execution_count": 31,
   "id": "b8f5e4b1-161c-48cf-8421-583281cd5f06",
   "metadata": {},
   "outputs": [
    {
     "name": "stdout",
     "output_type": "stream",
     "text": [
      "False\n"
     ]
    }
   ],
   "source": [
    "def isFloat(input):\n",
    "    return type(input)==False\n",
    "print(isFloat(1))"
   ]
  },
  {
   "cell_type": "markdown",
   "id": "153de3b8-80d9-4946-9b55-fe0f5c86a199",
   "metadata": {},
   "source": [
    "### Question4-Convert the list [1, 2, 3, 4] into a tuple and a set.\n"
   ]
  },
  {
   "cell_type": "code",
   "execution_count": 51,
   "id": "9f29b9d2-c9c3-43fd-92c1-54625ec03f2a",
   "metadata": {},
   "outputs": [
    {
     "name": "stdout",
     "output_type": "stream",
     "text": [
      "(1, 2, 3, 4)\n",
      "{1, 2, 3, 4}\n"
     ]
    }
   ],
   "source": [
    "l1 = [1,2,3,4]\n",
    "t1 = tuple(l1)\n",
    "print(t1)\n",
    "s1 = set(l1)\n",
    "print(s1)"
   ]
  },
  {
   "cell_type": "markdown",
   "id": "a0202111-432a-4268-b3a7-7ac00970e9d8",
   "metadata": {},
   "source": [
    "### Question5-Write a Python script to calculate the length of a string provided by the user."
   ]
  },
  {
   "cell_type": "code",
   "execution_count": 61,
   "id": "95ec6605-d2f4-486b-9cdb-1d157ace3c91",
   "metadata": {},
   "outputs": [
    {
     "name": "stdin",
     "output_type": "stream",
     "text": [
      "Enter a string:  hello\n"
     ]
    },
    {
     "name": "stdout",
     "output_type": "stream",
     "text": [
      "Length of string: 5\n"
     ]
    }
   ],
   "source": [
    "\n",
    "string = input(\"Enter a string: \")\n",
    "\n",
    "length = len(string)\n",
    "\n",
    "print(\"Length of string:\", length)\n"
   ]
  },
  {
   "cell_type": "markdown",
   "id": "44142b95-5f08-4ba9-a6b1-111f1befe61e",
   "metadata": {},
   "source": [
    "### Question6-Create a dictionary to store details of a student (name, age, grade). Retrieve the age from the dictionary."
   ]
  },
  {
   "cell_type": "code",
   "execution_count": 68,
   "id": "07695c76-6ff8-4315-9d61-851283013868",
   "metadata": {},
   "outputs": [
    {
     "name": "stdout",
     "output_type": "stream",
     "text": [
      "21\n"
     ]
    }
   ],
   "source": [
    "student_data = {\n",
    "    'name':'Pranali',\n",
    "    'age':21\n",
    "}\n",
    "print(student_data['age'])"
   ]
  },
  {
   "cell_type": "markdown",
   "id": "93c92d72-c678-41db-ad1a-401a209ca5fc",
   "metadata": {},
   "source": [
    "### Question7-Write a program to check if a variable is mutable or immutable."
   ]
  },
  {
   "cell_type": "code",
   "execution_count": 77,
   "id": "c535756b-5c27-4776-b9d2-30986391d4ca",
   "metadata": {},
   "outputs": [
    {
     "data": {
      "text/plain": [
       "False"
      ]
     },
     "execution_count": 77,
     "metadata": {},
     "output_type": "execute_result"
    }
   ],
   "source": [
    "def isImmutable(input):\n",
    "    return type(input)==tuple or type(input)==str\n",
    "isImmutable('jtdyt')"
   ]
  },
  {
   "cell_type": "markdown",
   "id": "d6a1dc21-7d31-4db1-b6e8-2df741f5be70",
   "metadata": {},
   "source": [
    "### Question8-Convert the integer 10 to binary, octal, and hexadecimal formats."
   ]
  },
  {
   "cell_type": "code",
   "execution_count": 93,
   "id": "093a4b53-4919-4529-b6f2-ed2182912ad2",
   "metadata": {},
   "outputs": [
    {
     "name": "stdout",
     "output_type": "stream",
     "text": [
      "0b10100\n",
      "0o24\n",
      "0x14\n"
     ]
    }
   ],
   "source": [
    "print(bin(20))\n",
    "print(oct(20))\n",
    "print(hex(20))"
   ]
  },
  {
   "cell_type": "markdown",
   "id": "d33d512d-a07e-4976-8d24-73959ab1ee9a",
   "metadata": {},
   "source": [
    "### Question9-Write a Python program to swap two numbers using tuple unpacking."
   ]
  },
  {
   "cell_type": "code",
   "execution_count": 97,
   "id": "fdabc4cd-ed82-49ce-9108-9570c3321ccd",
   "metadata": {},
   "outputs": [
    {
     "name": "stdout",
     "output_type": "stream",
     "text": [
      "2 1\n"
     ]
    }
   ],
   "source": [
    "a=1\n",
    "b=2\n",
    "a,b=b,a\n",
    "print(a,b)\n"
   ]
  },
  {
   "cell_type": "code",
   "execution_count": null,
   "id": "4d9cd814-308e-4de4-94cd-0a3d85b05a18",
   "metadata": {},
   "outputs": [],
   "source": []
  }
 ],
 "metadata": {
  "kernelspec": {
   "display_name": "Python [conda env:base] *",
   "language": "python",
   "name": "conda-base-py"
  },
  "language_info": {
   "codemirror_mode": {
    "name": "ipython",
    "version": 3
   },
   "file_extension": ".py",
   "mimetype": "text/x-python",
   "name": "python",
   "nbconvert_exporter": "python",
   "pygments_lexer": "ipython3",
   "version": "3.12.7"
  }
 },
 "nbformat": 4,
 "nbformat_minor": 5
}
